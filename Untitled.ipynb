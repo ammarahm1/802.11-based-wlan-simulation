{
 "cells": [
  {
   "cell_type": "code",
   "execution_count": 2,
   "metadata": {},
   "outputs": [],
   "source": [
    "import math, random"
   ]
  },
  {
   "cell_type": "code",
   "execution_count": 34,
   "metadata": {},
   "outputs": [],
   "source": [
    "DIFS = 1.0"
   ]
  },
  {
   "cell_type": "code",
   "execution_count": 19,
   "metadata": {},
   "outputs": [
    {
     "data": {
      "text/plain": [
       "5"
      ]
     },
     "execution_count": 19,
     "metadata": {},
     "output_type": "execute_result"
    }
   ],
   "source": [
    "len(arrivals)\n"
   ]
  },
  {
   "cell_type": "code",
   "execution_count": 20,
   "metadata": {},
   "outputs": [
    {
     "data": {
      "text/plain": [
       "(0.0, 3)"
      ]
     },
     "execution_count": 20,
     "metadata": {},
     "output_type": "execute_result"
    }
   ],
   "source": []
  },
  {
   "cell_type": "code",
   "execution_count": null,
   "metadata": {},
   "outputs": [],
   "source": []
  },
  {
   "cell_type": "code",
   "execution_count": 11,
   "metadata": {},
   "outputs": [],
   "source": [
    "from enum import Enum\n",
    "class States(Enum):\n",
    "    IDLE = 1\n",
    "    BUSY = 2\n",
    "    CONTENTION = 3 #when it starts to count down backoff\n",
    "    FROZEN = 4 #when it is waiting to go to contention bc other station is sending\n",
    "\n",
    "class GelStates(Enum):\n",
    "    DIFS = 1\n",
    "    NONDIFS = 2\n"
   ]
  },
  {
   "cell_type": "code",
   "execution_count": 21,
   "metadata": {},
   "outputs": [],
   "source": [
    "class GEL:\n",
    "    def __init__(self):\n",
    "        self.state = GelStates.DIFS\n",
    "        self.arrivals = [] #(arrival_time, host_number)\n",
    "        \n",
    "        \n",
    "    def sum_arrivals():\n",
    "        return len(self.arrivals)\n",
    "        "
   ]
  },
  {
   "cell_type": "code",
   "execution_count": 22,
   "metadata": {},
   "outputs": [],
   "source": [
    "gel = GEL()"
   ]
  },
  {
   "cell_type": "code",
   "execution_count": 61,
   "metadata": {},
   "outputs": [
    {
     "data": {
      "text/plain": [
       "2"
      ]
     },
     "execution_count": 61,
     "metadata": {},
     "output_type": "execute_result"
    }
   ],
   "source": [
    "arrivals = [(.75, 1), (1.6, 2), (0.0, 3), (3.8, 4), (3.8, 5)]\n",
    "first_packet_arrived = arrivals.index(min(arrivals))\n",
    "first_packet_arrived"
   ]
  },
  {
   "cell_type": "code",
   "execution_count": 62,
   "metadata": {},
   "outputs": [],
   "source": [
    "gel.state = GelStates.NONDIFS"
   ]
  },
  {
   "cell_type": "code",
   "execution_count": 66,
   "metadata": {},
   "outputs": [
    {
     "data": {
      "text/plain": [
       "[0, 2]"
      ]
     },
     "execution_count": 66,
     "metadata": {},
     "output_type": "execute_result"
    }
   ],
   "source": [
    "packets_arrived_during_DIFS = \\\n",
    "[x for x, y in enumerate(arrivals)\\\n",
    " if y[0] < DIFS]\n",
    "packets_arrived_during_DIFS"
   ]
  },
  {
   "cell_type": "code",
   "execution_count": 67,
   "metadata": {},
   "outputs": [
    {
     "data": {
      "text/plain": [
       "[0]"
      ]
     },
     "execution_count": 67,
     "metadata": {},
     "output_type": "execute_result"
    }
   ],
   "source": [
    "packets_arrived_during_DIFS.remove(first_packet_arrived)\n",
    "packets_arrived_during_DIFS"
   ]
  },
  {
   "cell_type": "code",
   "execution_count": 54,
   "metadata": {},
   "outputs": [],
   "source": [
    "backoff = .98\n"
   ]
  },
  {
   "cell_type": "code",
   "execution_count": 58,
   "metadata": {},
   "outputs": [],
   "source": []
  },
  {
   "cell_type": "code",
   "execution_count": 60,
   "metadata": {},
   "outputs": [
    {
     "name": "stdout",
     "output_type": "stream",
     "text": [
      "1\n"
     ]
    }
   ],
   "source": []
  },
  {
   "cell_type": "code",
   "execution_count": null,
   "metadata": {},
   "outputs": [],
   "source": [
    "class DLL:\n",
    "    def __init__(self):\n",
    "        self.head = None\n",
    "\n",
    "    def remove_first(self):\n",
    "        if self.head is not None:\n",
    "            self.head = self.head.next\n",
    "            if self.head is not None:\n",
    "                self.head.prev = None\n",
    "\n",
    "    def insert(self, new_time, new_type, new_src, new_dest):\n",
    "        new_event = Event(time=new_time, type=new_type, src=new_src, dest=new_dest)\n",
    "\n",
    "        # empty linked list\n",
    "        if self.head is None:\n",
    "            new_event.prev = None\n",
    "            new_event.next = None\n",
    "            self.head = new_event\n",
    "        # not empty linked list\n",
    "        else:\n",
    "            if self.head.time > new_time:\n",
    "                new_event.prev = None\n",
    "                new_event.next = self.head\n",
    "                self.head.prev = new_event\n",
    "                self.head = new_event\n",
    "                return\n",
    "            temp: Event = self.head\n",
    "            while temp.next is not None:\n",
    "                if temp.time <= new_time < temp.next.time:\n",
    "                    new_event.prev = temp\n",
    "                    new_event.next = temp.next\n",
    "                    temp.next.prev = new_event\n",
    "                    temp.next = new_event\n",
    "                    return\n",
    "                temp = temp.next\n",
    "            temp.next = new_event\n",
    "            new_event.prev = temp\n",
    "            new_event.next = None\n",
    "\n",
    "    def print_list(self):\n",
    "        if self.head is None:\n",
    "            print(\"Empty!\")\n",
    "            return\n",
    "\n",
    "        print(\"-----start-----\")\n",
    "        temp = self.head\n",
    "        while temp is not None and temp.next is not None:\n",
    "            print(\"Time:\" + str(temp.time) + \" Type:\" + str(temp.type) + \" Source:\" + str(temp.src) + \" Destination:\" + str(temp.dest))\n",
    "            temp = temp.next\n",
    "\n",
    "        print(\"Time:\" + str(temp.time) + \" Type:\" + str(temp.type) + \" Source:\" + str(temp.src) + \" Destination:\" + str(temp.dest))\n",
    " \n",
    "\n",
    "        print(\"-----end-----\")\n"
   ]
  },
  {
   "cell_type": "code",
   "execution_count": 4,
   "metadata": {},
   "outputs": [],
   "source": [
    "class Station():\n",
    "    def __init__(self):\n",
    "        self.state = States.IDLE\n",
    "        self.backoff = -1\n",
    "        self.buffer = []\n",
    "        self.number\n",
    "        "
   ]
  },
  {
   "cell_type": "code",
   "execution_count": 8,
   "metadata": {},
   "outputs": [],
   "source": [
    "sender = Station()\n",
    "receiver = Station()"
   ]
  },
  {
   "cell_type": "code",
   "execution_count": 9,
   "metadata": {},
   "outputs": [
    {
     "ename": "SyntaxError",
     "evalue": "unexpected EOF while parsing (<ipython-input-9-e15b05b3ca2a>, line 6)",
     "output_type": "error",
     "traceback": [
      "\u001b[0;36m  File \u001b[0;32m\"<ipython-input-9-e15b05b3ca2a>\"\u001b[0;36m, line \u001b[0;32m6\u001b[0m\n\u001b[0;31m    \u001b[0m\n\u001b[0m    ^\u001b[0m\n\u001b[0;31mSyntaxError\u001b[0m\u001b[0;31m:\u001b[0m unexpected EOF while parsing\n"
     ]
    }
   ],
   "source": [
    "if sender.state == States.IDLE:\n",
    "    \n",
    "    #wait DIFS time \n",
    "    # Data/Mbps send time\n",
    "    #receiver waits SIFS\n",
    "    # receiver sends ACK to sender\n",
    "    "
   ]
  },
  {
   "cell_type": "code",
   "execution_count": null,
   "metadata": {},
   "outputs": [],
   "source": []
  },
  {
   "cell_type": "code",
   "execution_count": null,
   "metadata": {},
   "outputs": [],
   "source": []
  },
  {
   "cell_type": "code",
   "execution_count": null,
   "metadata": {},
   "outputs": [],
   "source": []
  }
 ],
 "metadata": {
  "kernelspec": {
   "display_name": "Python 3",
   "language": "python",
   "name": "python3"
  },
  "language_info": {
   "codemirror_mode": {
    "name": "ipython",
    "version": 3
   },
   "file_extension": ".py",
   "mimetype": "text/x-python",
   "name": "python",
   "nbconvert_exporter": "python",
   "pygments_lexer": "ipython3",
   "version": "3.7.3"
  }
 },
 "nbformat": 4,
 "nbformat_minor": 2
}
